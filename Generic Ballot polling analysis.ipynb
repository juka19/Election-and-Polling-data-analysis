{
 "cells": [
  {
   "cell_type": "markdown",
   "metadata": {},
   "source": [
    "# Generic congressional ballot polling analysis\n",
    "\n",
    "- Visualizing polling \n",
    "- Visualizing Democratic lead by year and month\n",
    "- Calculating and Visualizing Error in Polls\n",
    "- Predicting Election results with linear regression"
   ]
  },
  {
   "cell_type": "code",
   "execution_count": 6,
   "metadata": {},
   "outputs": [
    {
     "data": {
      "text/html": [
       "<table>\n",
       "<caption>A data.frame: 10 × 8</caption>\n",
       "<thead>\n",
       "\t<tr><th></th><th scope=col>Date</th><th scope=col>Democrats</th><th scope=col>Republicans</th><th scope=col>ElecYear</th><th scope=col>ElecDay</th><th scope=col>DaysTilED</th><th scope=col>DemVote</th><th scope=col>RepVote</th></tr>\n",
       "\t<tr><th></th><th scope=col>&lt;fct&gt;</th><th scope=col>&lt;int&gt;</th><th scope=col>&lt;int&gt;</th><th scope=col>&lt;int&gt;</th><th scope=col>&lt;fct&gt;</th><th scope=col>&lt;int&gt;</th><th scope=col>&lt;dbl&gt;</th><th scope=col>&lt;dbl&gt;</th></tr>\n",
       "</thead>\n",
       "<tbody>\n",
       "\t<tr><th scope=row>1</th><td>7/4/1945  </td><td>44</td><td>31</td><td>1946</td><td>11/5/1946</td><td>489</td><td>45</td><td>53</td></tr>\n",
       "\t<tr><th scope=row>2</th><td>7/19/1945 </td><td>38</td><td>31</td><td>1946</td><td>11/5/1946</td><td>474</td><td>45</td><td>53</td></tr>\n",
       "\t<tr><th scope=row>3</th><td>10/23/1945</td><td>36</td><td>51</td><td>1946</td><td>11/5/1946</td><td>378</td><td>45</td><td>53</td></tr>\n",
       "\t<tr><th scope=row>4</th><td>11/28/1945</td><td>40</td><td>34</td><td>1946</td><td>11/5/1946</td><td>342</td><td>45</td><td>53</td></tr>\n",
       "\t<tr><th scope=row>5</th><td>1/10/1946 </td><td>40</td><td>34</td><td>1946</td><td>11/5/1946</td><td>299</td><td>45</td><td>53</td></tr>\n",
       "\t<tr><th scope=row>6</th><td>1/30/1946 </td><td>40</td><td>33</td><td>1946</td><td>11/5/1946</td><td>279</td><td>45</td><td>53</td></tr>\n",
       "\t<tr><th scope=row>7</th><td>1/30/1946 </td><td>50</td><td>39</td><td>1946</td><td>11/5/1946</td><td>279</td><td>45</td><td>53</td></tr>\n",
       "\t<tr><th scope=row>8</th><td>3/5/1946  </td><td>37</td><td>37</td><td>1946</td><td>11/5/1946</td><td>245</td><td>45</td><td>53</td></tr>\n",
       "\t<tr><th scope=row>9</th><td>4/17/1946 </td><td>37</td><td>32</td><td>1946</td><td>11/5/1946</td><td>202</td><td>45</td><td>53</td></tr>\n",
       "\t<tr><th scope=row>10</th><td>5/1/1946  </td><td>37</td><td>34</td><td>1946</td><td>11/5/1946</td><td>188</td><td>45</td><td>53</td></tr>\n",
       "</tbody>\n",
       "</table>\n"
      ],
      "text/latex": [
       "A data.frame: 10 × 8\n",
       "\\begin{tabular}{r|llllllll}\n",
       "  & Date & Democrats & Republicans & ElecYear & ElecDay & DaysTilED & DemVote & RepVote\\\\\n",
       "  & <fct> & <int> & <int> & <int> & <fct> & <int> & <dbl> & <dbl>\\\\\n",
       "\\hline\n",
       "\t1 & 7/4/1945   & 44 & 31 & 1946 & 11/5/1946 & 489 & 45 & 53\\\\\n",
       "\t2 & 7/19/1945  & 38 & 31 & 1946 & 11/5/1946 & 474 & 45 & 53\\\\\n",
       "\t3 & 10/23/1945 & 36 & 51 & 1946 & 11/5/1946 & 378 & 45 & 53\\\\\n",
       "\t4 & 11/28/1945 & 40 & 34 & 1946 & 11/5/1946 & 342 & 45 & 53\\\\\n",
       "\t5 & 1/10/1946  & 40 & 34 & 1946 & 11/5/1946 & 299 & 45 & 53\\\\\n",
       "\t6 & 1/30/1946  & 40 & 33 & 1946 & 11/5/1946 & 279 & 45 & 53\\\\\n",
       "\t7 & 1/30/1946  & 50 & 39 & 1946 & 11/5/1946 & 279 & 45 & 53\\\\\n",
       "\t8 & 3/5/1946   & 37 & 37 & 1946 & 11/5/1946 & 245 & 45 & 53\\\\\n",
       "\t9 & 4/17/1946  & 37 & 32 & 1946 & 11/5/1946 & 202 & 45 & 53\\\\\n",
       "\t10 & 5/1/1946   & 37 & 34 & 1946 & 11/5/1946 & 188 & 45 & 53\\\\\n",
       "\\end{tabular}\n"
      ],
      "text/markdown": [
       "\n",
       "A data.frame: 10 × 8\n",
       "\n",
       "| <!--/--> | Date &lt;fct&gt; | Democrats &lt;int&gt; | Republicans &lt;int&gt; | ElecYear &lt;int&gt; | ElecDay &lt;fct&gt; | DaysTilED &lt;int&gt; | DemVote &lt;dbl&gt; | RepVote &lt;dbl&gt; |\n",
       "|---|---|---|---|---|---|---|---|---|\n",
       "| 1 | 7/4/1945   | 44 | 31 | 1946 | 11/5/1946 | 489 | 45 | 53 |\n",
       "| 2 | 7/19/1945  | 38 | 31 | 1946 | 11/5/1946 | 474 | 45 | 53 |\n",
       "| 3 | 10/23/1945 | 36 | 51 | 1946 | 11/5/1946 | 378 | 45 | 53 |\n",
       "| 4 | 11/28/1945 | 40 | 34 | 1946 | 11/5/1946 | 342 | 45 | 53 |\n",
       "| 5 | 1/10/1946  | 40 | 34 | 1946 | 11/5/1946 | 299 | 45 | 53 |\n",
       "| 6 | 1/30/1946  | 40 | 33 | 1946 | 11/5/1946 | 279 | 45 | 53 |\n",
       "| 7 | 1/30/1946  | 50 | 39 | 1946 | 11/5/1946 | 279 | 45 | 53 |\n",
       "| 8 | 3/5/1946   | 37 | 37 | 1946 | 11/5/1946 | 245 | 45 | 53 |\n",
       "| 9 | 4/17/1946  | 37 | 32 | 1946 | 11/5/1946 | 202 | 45 | 53 |\n",
       "| 10 | 5/1/1946   | 37 | 34 | 1946 | 11/5/1946 | 188 | 45 | 53 |\n",
       "\n"
      ],
      "text/plain": [
       "   Date       Democrats Republicans ElecYear ElecDay   DaysTilED DemVote\n",
       "1  7/4/1945   44        31          1946     11/5/1946 489       45     \n",
       "2  7/19/1945  38        31          1946     11/5/1946 474       45     \n",
       "3  10/23/1945 36        51          1946     11/5/1946 378       45     \n",
       "4  11/28/1945 40        34          1946     11/5/1946 342       45     \n",
       "5  1/10/1946  40        34          1946     11/5/1946 299       45     \n",
       "6  1/30/1946  40        33          1946     11/5/1946 279       45     \n",
       "7  1/30/1946  50        39          1946     11/5/1946 279       45     \n",
       "8  3/5/1946   37        37          1946     11/5/1946 245       45     \n",
       "9  4/17/1946  37        32          1946     11/5/1946 202       45     \n",
       "10 5/1/1946   37        34          1946     11/5/1946 188       45     \n",
       "   RepVote\n",
       "1  53     \n",
       "2  53     \n",
       "3  53     \n",
       "4  53     \n",
       "5  53     \n",
       "6  53     \n",
       "7  53     \n",
       "8  53     \n",
       "9  53     \n",
       "10 53     "
      ]
     },
     "metadata": {},
     "output_type": "display_data"
    },
    {
     "data": {
      "image/png": "[encoded data removed]",
      "text/plain": [
       "plot without title"
      ]
     },
     "metadata": {
      "image/png": {
       "height": 420,
       "width": 420
      }
     },
     "output_type": "display_data"
    }
   ],
   "source": [
    "library(lubridate)\n",
    "library(tidyverse)\n",
    "library(ggplot2)\n",
    "\n",
    "generic_ballot <- read.csv(\"https://assets.datacamp.com/production/repositories/1934/datasets/b67f87da8083695e8d49387a37d0ff30f341bded/generic_ballot.csv\",\n",
    "                          header = TRUE, sep = \",\")\n",
    "generic_ballot %>% \n",
    "    head(10)\n",
    "\n",
    "ggplot(generic_ballot, aes(x = mdy(Date), y = Democrats)) +\n",
    "    geom_point()"
   ]
  },
  {
   "cell_type": "markdown",
   "metadata": {},
   "source": [
    "## Time Series Analysis for the generic ballot\n",
    "### Averaging by year"
   ]
  },
  {
   "cell_type": "code",
   "execution_count": 11,
   "metadata": {},
   "outputs": [
    {
     "name": "stderr",
     "output_type": "stream",
     "text": [
      "`summarise()` ungrouping output (override with `.groups` argument)\n",
      "\n"
     ]
    },
    {
     "data": {
      "text/html": [
       "<table>\n",
       "<caption>A tibble: 6 × 2</caption>\n",
       "<thead>\n",
       "\t<tr><th scope=col>ElecYear</th><th scope=col>Democratic.Margin</th></tr>\n",
       "\t<tr><th scope=col>&lt;int&gt;</th><th scope=col>&lt;dbl&gt;</th></tr>\n",
       "</thead>\n",
       "<tbody>\n",
       "\t<tr><td>1946</td><td> 0.5238095</td></tr>\n",
       "\t<tr><td>1948</td><td>-0.3333333</td></tr>\n",
       "\t<tr><td>1950</td><td>11.1250000</td></tr>\n",
       "\t<tr><td>1952</td><td>-0.9750000</td></tr>\n",
       "\t<tr><td>1954</td><td> 9.3953488</td></tr>\n",
       "\t<tr><td>1956</td><td>11.0606061</td></tr>\n",
       "</tbody>\n",
       "</table>\n"
      ],
      "text/latex": [
       "A tibble: 6 × 2\n",
       "\\begin{tabular}{ll}\n",
       " ElecYear & Democratic.Margin\\\\\n",
       " <int> & <dbl>\\\\\n",
       "\\hline\n",
       "\t 1946 &  0.5238095\\\\\n",
       "\t 1948 & -0.3333333\\\\\n",
       "\t 1950 & 11.1250000\\\\\n",
       "\t 1952 & -0.9750000\\\\\n",
       "\t 1954 &  9.3953488\\\\\n",
       "\t 1956 & 11.0606061\\\\\n",
       "\\end{tabular}\n"
      ],
      "text/markdown": [
       "\n",
       "A tibble: 6 × 2\n",
       "\n",
       "| ElecYear &lt;int&gt; | Democratic.Margin &lt;dbl&gt; |\n",
       "|---|---|\n",
       "| 1946 |  0.5238095 |\n",
       "| 1948 | -0.3333333 |\n",
       "| 1950 | 11.1250000 |\n",
       "| 1952 | -0.9750000 |\n",
       "| 1954 |  9.3953488 |\n",
       "| 1956 | 11.0606061 |\n",
       "\n"
      ],
      "text/plain": [
       "  ElecYear Democratic.Margin\n",
       "1 1946      0.5238095       \n",
       "2 1948     -0.3333333       \n",
       "3 1950     11.1250000       \n",
       "4 1952     -0.9750000       \n",
       "5 1954      9.3953488       \n",
       "6 1956     11.0606061       "
      ]
     },
     "metadata": {},
     "output_type": "display_data"
    },
    {
     "data": {
      "image/png": "[encoded data removed]",
      "text/plain": [
       "plot without title"
      ]
     },
     "metadata": {
      "image/png": {
       "height": 420,
       "width": 420
      }
     },
     "output_type": "display_data"
    }
   ],
   "source": [
    "democratic_lead <- generic_ballot %>% \n",
    "    mutate(Democratic.Margin = Democrats - Republicans)\n",
    "over_time <- democratic_lead %>% \n",
    "    group_by(ElecYear)  %>% \n",
    "    summarize(Democratic.Margin = mean(Democratic.Margin))\n",
    "head(over_time)\n",
    "\n",
    "ggplot(over_time, aes(ElecYear, Democratic.Margin)) +\n",
    "    geom_line()"
   ]
  },
  {
   "cell_type": "markdown",
   "metadata": {},
   "source": [
    "### Averaging by month\n",
    "Steps:\n",
    "    \n",
    "1. Group polls by month and year in which they were taken:\n",
    "        \n",
    "        data  %>% group_by(year, month)   \n",
    "2. Create an average reading of the Democratic margin in that month\n",
    "        \n",
    "        data  %>% group_by(year, month)  %>% \n",
    "           summarize(support =  mean(support))       \n",
    "3. Analyze and visualize with ggplot:\n",
    "- Make ggplot object:\n",
    "        \n",
    "        ggplot(data, aes(x=month, y=support)) +\n",
    "- Add geometric layer:\n",
    "        \n",
    "        geom_point() +\n",
    "           geom_smooth(span = 0.2)"
   ]
  },
  {
   "cell_type": "code",
   "execution_count": 13,
   "metadata": {},
   "outputs": [
    {
     "name": "stderr",
     "output_type": "stream",
     "text": [
      "`summarise()` regrouping output by 'yr' (override with `.groups` argument)\n",
      "\n",
      "`geom_smooth()` using method = 'loess' and formula 'y ~ x'\n",
      "\n"
     ]
    },
    {
     "data": {
      "image/png": "[encoded data removed]",
      "text/plain": [
       "plot without title"
      ]
     },
     "metadata": {
      "image/png": {
       "height": 420,
       "width": 420
      }
     },
     "output_type": "display_data"
    }
   ],
   "source": [
    "timeseries <- democratic_lead %>% \n",
    "    mutate(Date = mdy(Date),\n",
    "          month = month(Date),\n",
    "          yr = year(Date))\n",
    "\n",
    "timeseries <- timeseries %>% \n",
    "    group_by(yr, month) %>% \n",
    "    summarize(Democratic.Margin = mean(Democratic.Margin))\n",
    "\n",
    "timeseries_plot <- timeseries %>%\n",
    "  mutate(time = sprintf(\"%s-%s-%s\",yr,month,\"01\"))\n",
    "\n",
    "ggplot(timeseries_plot,aes(x=ymd(time),y=Democratic.Margin)) +\n",
    "  geom_point() +\n",
    "  geom_smooth(span = 0.2)"
   ]
  },
  {
   "cell_type": "markdown",
   "metadata": {},
   "source": [
    "## Calculating and Visualizing Error in Polls"
   ]
  },
  {
   "cell_type": "code",
   "execution_count": 14,
   "metadata": {},
   "outputs": [
    {
     "name": "stderr",
     "output_type": "stream",
     "text": [
      "`summarise()` ungrouping output (override with `.groups` argument)\n",
      "\n"
     ]
    }
   ],
   "source": [
    "# Mutating two variables for the Democrats' margin in polls and election day votes\n",
    "poll_error <- generic_ballot %>%\n",
    "  mutate(Dem.Poll.Margin = Democrats - Republicans,\n",
    "         Dem.Vote.Margin = DemVote - RepVote)\n",
    "\n",
    "# Averaging those two variables per year and mutate the \"error\" variable\n",
    "poll_error <- poll_error %>%\n",
    "  group_by(ElecYear) %>%\n",
    "  summarise(Dem.Poll.Margin = mean(Dem.Poll.Margin),\n",
    "            Dem.Vote.Margin = mean(Dem.Vote.Margin)) %>%\n",
    "  mutate(error = Dem.Poll.Margin - Dem.Vote.Margin)"
   ]
  },
  {
   "cell_type": "code",
   "execution_count": 15,
   "metadata": {},
   "outputs": [],
   "source": [
    "# Calculating the root-mean-square error of the error variable\n",
    "rmse <- sqrt(mean(poll_error$error^2))\n",
    "\n",
    "# Multiplying the RMSE by 1.96 to get the 95% confidence interval, or \"margin of error\"\n",
    "CI <- rmse * 1.96\n",
    "\n",
    "# Adding variables to the dataset for the upper and lower bound of the `Dem.Poll.Margin` variable\n",
    "by_year <- poll_error %>%\n",
    "  mutate(upper = Dem.Poll.Margin + CI,\n",
    "         lower = Dem.Poll.Margin - CI)"
   ]
  },
  {
   "cell_type": "code",
   "execution_count": 16,
   "metadata": {},
   "outputs": [
    {
     "data": {
      "image/png": "[encoded data removed]",
      "text/plain": [
       "plot without title"
      ]
     },
     "metadata": {
      "image/png": {
       "height": 420,
       "width": 420
      }
     },
     "output_type": "display_data"
    }
   ],
   "source": [
    "# Plot\n",
    "ggplot(by_year) + \n",
    "    geom_point(aes(x=ElecYear, y=Dem.Poll.Margin, col=\"Poll\")) +\n",
    "    geom_point(aes(x=ElecYear, y=Dem.Vote.Margin, col=\"Vote\")) +\n",
    "    geom_errorbar(aes(x=ElecYear, ymin=lower, ymax=upper))"
   ]
  },
  {
   "cell_type": "markdown",
   "metadata": {},
   "source": [
    "## Predicting congressional elections with linear regression"
   ]
  },
  {
   "cell_type": "code",
   "execution_count": 20,
   "metadata": {},
   "outputs": [
    {
     "data": {
      "text/plain": [
       "\n",
       "Call:\n",
       "lm(formula = Dem.Vote.Margin ~ Dem.Poll.Margin, data = by_year)\n",
       "\n",
       "Residuals:\n",
       "    Min      1Q  Median      3Q     Max \n",
       "-7.9701 -3.2791 -0.1947  3.0657 10.4314 \n",
       "\n",
       "Coefficients:\n",
       "                Estimate Std. Error t value Pr(>|t|)    \n",
       "(Intercept)     -0.80939    1.19857  -0.675    0.504    \n",
       "Dem.Poll.Margin  0.52693    0.09582   5.499 3.86e-06 ***\n",
       "---\n",
       "Signif. codes:  0 '***' 0.001 '**' 0.01 '*' 0.05 '.' 0.1 ' ' 1\n",
       "\n",
       "Residual standard error: 4.758 on 34 degrees of freedom\n",
       "Multiple R-squared:  0.4708,\tAdjusted R-squared:  0.4552 \n",
       "F-statistic: 30.24 on 1 and 34 DF,  p-value: 3.855e-06\n"
      ]
     },
     "metadata": {},
     "output_type": "display_data"
    }
   ],
   "source": [
    "# Fitting a model predicting Democratic vote margin with Democratic poll margin\n",
    "model <- lm(Dem.Vote.Margin ~ Dem.Poll.Margin, data=by_year)\n",
    "summary(model)"
   ]
  },
  {
   "cell_type": "code",
   "execution_count": 21,
   "metadata": {},
   "outputs": [
    {
     "data": {
      "text/html": [
       "<strong>1:</strong> 1.82524838581268"
      ],
      "text/latex": [
       "\\textbf{1:} 1.82524838581268"
      ],
      "text/markdown": [
       "**1:** 1.82524838581268"
      ],
      "text/plain": [
       "       1 \n",
       "1.825248 "
      ]
     },
     "metadata": {},
     "output_type": "display_data"
    }
   ],
   "source": [
    "# New dataframe that has the prediction variable and value\n",
    "predictdata <- data.frame(\"Dem.Poll.Margin\" = 5)\n",
    "predict(model, predictdata)"
   ]
  },
  {
   "cell_type": "markdown",
   "metadata": {},
   "source": [
    "- Democratic Polling margin translates into an actual margin of ~1.8%"
   ]
  }
 ],
 "metadata": {
  "kernelspec": {
   "display_name": "R",
   "language": "R",
   "name": "ir"
  },
  "language_info": {
   "codemirror_mode": "r",
   "file_extension": ".r",
   "mimetype": "text/x-r-source",
   "name": "R",
   "pygments_lexer": "r",
   "version": "3.6.1"
  }
 },
 "nbformat": 4,
 "nbformat_minor": 2
}
