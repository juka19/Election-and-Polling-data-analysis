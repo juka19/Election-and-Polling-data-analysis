{
 "cells": [
  {
   "cell_type": "markdown",
   "metadata": {},
   "source": [
    "# Presidential Job Approval Polls"
   ]
  },
  {
   "cell_type": "code",
   "execution_count": 2,
   "metadata": {},
   "outputs": [
    {
     "name": "stderr",
     "output_type": "stream",
     "text": [
      "Warning message:\n",
      "\"package 'readxl' was built under R version 3.6.2\"\n"
     ]
    },
    {
     "data": {
      "text/html": [
       "<table>\n",
       "<caption>A tibble: 6 × 9</caption>\n",
       "<thead>\n",
       "\t<tr><th scope=col>start_date</th><th scope=col>end_date</th><th scope=col>approving</th><th scope=col>disapproving</th><th scope=col>unsure_nodata</th><th scope=col>president</th><th scope=col>Inauguration_both</th><th scope=col>inauguration</th><th scope=col>days_in_office</th></tr>\n",
       "\t<tr><th scope=col>&lt;dttm&gt;</th><th scope=col>&lt;dttm&gt;</th><th scope=col>&lt;dbl&gt;</th><th scope=col>&lt;dbl&gt;</th><th scope=col>&lt;dbl&gt;</th><th scope=col>&lt;chr&gt;</th><th scope=col>&lt;dttm&gt;</th><th scope=col>&lt;dttm&gt;</th><th scope=col>&lt;dbl&gt;</th></tr>\n",
       "</thead>\n",
       "<tbody>\n",
       "\t<tr><td>2020-01-16</td><td>2020-01-29</td><td>49</td><td>50</td><td>1</td><td>Donald Trump</td><td>2017-01-20</td><td>2017-01-20</td><td>1104</td></tr>\n",
       "\t<tr><td>2020-01-02</td><td>2020-01-15</td><td>44</td><td>53</td><td>3</td><td>Donald Trump</td><td>2017-01-20</td><td>2017-01-20</td><td>1090</td></tr>\n",
       "\t<tr><td>2019-12-02</td><td>2019-12-15</td><td>45</td><td>51</td><td>4</td><td>Donald Trump</td><td>2017-01-20</td><td>2017-01-20</td><td>1059</td></tr>\n",
       "\t<tr><td>2019-11-01</td><td>2019-11-14</td><td>43</td><td>54</td><td>3</td><td>Donald Trump</td><td>2017-01-20</td><td>2017-01-20</td><td>1028</td></tr>\n",
       "\t<tr><td>2019-10-14</td><td>2019-10-31</td><td>41</td><td>57</td><td>2</td><td>Donald Trump</td><td>2017-01-20</td><td>2017-01-20</td><td>1014</td></tr>\n",
       "\t<tr><td>2019-10-01</td><td>2019-10-13</td><td>39</td><td>57</td><td>4</td><td>Donald Trump</td><td>2017-01-20</td><td>2017-01-20</td><td> 996</td></tr>\n",
       "</tbody>\n",
       "</table>\n"
      ],
      "text/latex": [
       "A tibble: 6 × 9\n",
       "\\begin{tabular}{lllllllll}\n",
       " start\\_date & end\\_date & approving & disapproving & unsure\\_nodata & president & Inauguration\\_both & inauguration & days\\_in\\_office\\\\\n",
       " <dttm> & <dttm> & <dbl> & <dbl> & <dbl> & <chr> & <dttm> & <dttm> & <dbl>\\\\\n",
       "\\hline\n",
       "\t 2020-01-16 & 2020-01-29 & 49 & 50 & 1 & Donald Trump & 2017-01-20 & 2017-01-20 & 1104\\\\\n",
       "\t 2020-01-02 & 2020-01-15 & 44 & 53 & 3 & Donald Trump & 2017-01-20 & 2017-01-20 & 1090\\\\\n",
       "\t 2019-12-02 & 2019-12-15 & 45 & 51 & 4 & Donald Trump & 2017-01-20 & 2017-01-20 & 1059\\\\\n",
       "\t 2019-11-01 & 2019-11-14 & 43 & 54 & 3 & Donald Trump & 2017-01-20 & 2017-01-20 & 1028\\\\\n",
       "\t 2019-10-14 & 2019-10-31 & 41 & 57 & 2 & Donald Trump & 2017-01-20 & 2017-01-20 & 1014\\\\\n",
       "\t 2019-10-01 & 2019-10-13 & 39 & 57 & 4 & Donald Trump & 2017-01-20 & 2017-01-20 &  996\\\\\n",
       "\\end{tabular}\n"
      ],
      "text/markdown": [
       "\n",
       "A tibble: 6 × 9\n",
       "\n",
       "| start_date &lt;dttm&gt; | end_date &lt;dttm&gt; | approving &lt;dbl&gt; | disapproving &lt;dbl&gt; | unsure_nodata &lt;dbl&gt; | president &lt;chr&gt; | Inauguration_both &lt;dttm&gt; | inauguration &lt;dttm&gt; | days_in_office &lt;dbl&gt; |\n",
       "|---|---|---|---|---|---|---|---|---|\n",
       "| 2020-01-16 | 2020-01-29 | 49 | 50 | 1 | Donald Trump | 2017-01-20 | 2017-01-20 | 1104 |\n",
       "| 2020-01-02 | 2020-01-15 | 44 | 53 | 3 | Donald Trump | 2017-01-20 | 2017-01-20 | 1090 |\n",
       "| 2019-12-02 | 2019-12-15 | 45 | 51 | 4 | Donald Trump | 2017-01-20 | 2017-01-20 | 1059 |\n",
       "| 2019-11-01 | 2019-11-14 | 43 | 54 | 3 | Donald Trump | 2017-01-20 | 2017-01-20 | 1028 |\n",
       "| 2019-10-14 | 2019-10-31 | 41 | 57 | 2 | Donald Trump | 2017-01-20 | 2017-01-20 | 1014 |\n",
       "| 2019-10-01 | 2019-10-13 | 39 | 57 | 4 | Donald Trump | 2017-01-20 | 2017-01-20 |  996 |\n",
       "\n"
      ],
      "text/plain": [
       "  start_date end_date   approving disapproving unsure_nodata president   \n",
       "1 2020-01-16 2020-01-29 49        50           1             Donald Trump\n",
       "2 2020-01-02 2020-01-15 44        53           3             Donald Trump\n",
       "3 2019-12-02 2019-12-15 45        51           4             Donald Trump\n",
       "4 2019-11-01 2019-11-14 43        54           3             Donald Trump\n",
       "5 2019-10-14 2019-10-31 41        57           2             Donald Trump\n",
       "6 2019-10-01 2019-10-13 39        57           4             Donald Trump\n",
       "  Inauguration_both inauguration days_in_office\n",
       "1 2017-01-20        2017-01-20   1104          \n",
       "2 2017-01-20        2017-01-20   1090          \n",
       "3 2017-01-20        2017-01-20   1059          \n",
       "4 2017-01-20        2017-01-20   1028          \n",
       "5 2017-01-20        2017-01-20   1014          \n",
       "6 2017-01-20        2017-01-20    996          "
      ]
     },
     "metadata": {},
     "output_type": "display_data"
    }
   ],
   "source": [
    "library(readxl)\n",
    "data <- read_excel(\"C:/Users/Julian/Downloads/American Presidency Project - Approval Ratings for POTUS.xlsx\",\n",
    "                  sheet = 1)\n",
    "head(data)"
   ]
  },
  {
   "cell_type": "markdown",
   "metadata": {},
   "source": [
    "## Trump approval"
   ]
  },
  {
   "cell_type": "code",
   "execution_count": 3,
   "metadata": {},
   "outputs": [
    {
     "name": "stderr",
     "output_type": "stream",
     "text": [
      "Warning message:\n",
      "\"package 'dplyr' was built under R version 3.6.3\"\n",
      "\n",
      "Attaching package: 'dplyr'\n",
      "\n",
      "\n",
      "The following objects are masked from 'package:stats':\n",
      "\n",
      "    filter, lag\n",
      "\n",
      "\n",
      "The following objects are masked from 'package:base':\n",
      "\n",
      "    intersect, setdiff, setequal, union\n",
      "\n",
      "\n",
      "Warning message:\n",
      "\"package 'tidyr' was built under R version 3.6.3\"\n"
     ]
    },
    {
     "data": {
      "text/html": [
       "<table>\n",
       "<caption>A tibble: 6 × 3</caption>\n",
       "<thead>\n",
       "\t<tr><th scope=col>president</th><th scope=col>end_date</th><th scope=col>approving</th></tr>\n",
       "\t<tr><th scope=col>&lt;chr&gt;</th><th scope=col>&lt;dttm&gt;</th><th scope=col>&lt;dbl&gt;</th></tr>\n",
       "</thead>\n",
       "<tbody>\n",
       "\t<tr><td>Donald Trump</td><td>2020-01-29</td><td>49</td></tr>\n",
       "\t<tr><td>Donald Trump</td><td>2020-01-15</td><td>44</td></tr>\n",
       "\t<tr><td>Donald Trump</td><td>2019-12-15</td><td>45</td></tr>\n",
       "\t<tr><td>Donald Trump</td><td>2019-11-14</td><td>43</td></tr>\n",
       "\t<tr><td>Donald Trump</td><td>2019-10-31</td><td>41</td></tr>\n",
       "\t<tr><td>Donald Trump</td><td>2019-10-13</td><td>39</td></tr>\n",
       "</tbody>\n",
       "</table>\n"
      ],
      "text/latex": [
       "A tibble: 6 × 3\n",
       "\\begin{tabular}{lll}\n",
       " president & end\\_date & approving\\\\\n",
       " <chr> & <dttm> & <dbl>\\\\\n",
       "\\hline\n",
       "\t Donald Trump & 2020-01-29 & 49\\\\\n",
       "\t Donald Trump & 2020-01-15 & 44\\\\\n",
       "\t Donald Trump & 2019-12-15 & 45\\\\\n",
       "\t Donald Trump & 2019-11-14 & 43\\\\\n",
       "\t Donald Trump & 2019-10-31 & 41\\\\\n",
       "\t Donald Trump & 2019-10-13 & 39\\\\\n",
       "\\end{tabular}\n"
      ],
      "text/markdown": [
       "\n",
       "A tibble: 6 × 3\n",
       "\n",
       "| president &lt;chr&gt; | end_date &lt;dttm&gt; | approving &lt;dbl&gt; |\n",
       "|---|---|---|\n",
       "| Donald Trump | 2020-01-29 | 49 |\n",
       "| Donald Trump | 2020-01-15 | 44 |\n",
       "| Donald Trump | 2019-12-15 | 45 |\n",
       "| Donald Trump | 2019-11-14 | 43 |\n",
       "| Donald Trump | 2019-10-31 | 41 |\n",
       "| Donald Trump | 2019-10-13 | 39 |\n",
       "\n"
      ],
      "text/plain": [
       "  president    end_date   approving\n",
       "1 Donald Trump 2020-01-29 49       \n",
       "2 Donald Trump 2020-01-15 44       \n",
       "3 Donald Trump 2019-12-15 45       \n",
       "4 Donald Trump 2019-11-14 43       \n",
       "5 Donald Trump 2019-10-31 41       \n",
       "6 Donald Trump 2019-10-13 39       "
      ]
     },
     "metadata": {},
     "output_type": "display_data"
    }
   ],
   "source": [
    "library(dplyr)\n",
    "library(tidyr)\n",
    "approval_trump <- data  %>% \n",
    "    select(president, end_date, approving)  %>% \n",
    "    filter(president == \"Donald Trump\") \n",
    "head(approval_trump)"
   ]
  },
  {
   "cell_type": "code",
   "execution_count": 4,
   "metadata": {},
   "outputs": [
    {
     "name": "stderr",
     "output_type": "stream",
     "text": [
      "Warning message:\n",
      "\"package 'zoo' was built under R version 3.6.3\"\n",
      "\n",
      "Attaching package: 'zoo'\n",
      "\n",
      "\n",
      "The following objects are masked from 'package:base':\n",
      "\n",
      "    as.Date, as.Date.numeric\n",
      "\n",
      "\n",
      "Warning message:\n",
      "\"package 'ggplot2' was built under R version 3.6.3\"\n",
      "Warning message:\n",
      "\"Removed 9 row(s) containing missing values (geom_path).\"\n"
     ]
    },
    {
     "data": {
      "image/png": "[encoded data removed]",
      "text/plain": [
       "plot without title"
      ]
     },
     "metadata": {
      "image/png": {
       "height": 420,
       "width": 420
      }
     },
     "output_type": "display_data"
    }
   ],
   "source": [
    "library(zoo)\n",
    "Avg_tr_app <- approval_trump  %>% \n",
    "    mutate(AvgApprove =  rollmean(approving, 10, na.pad = TRUE,\n",
    "                                 align =  \"right\"))\n",
    "library(ggplot2)\n",
    "\n",
    "ggplot(Avg_tr_app, aes(x = end_date, y = AvgApprove)) +\n",
    "    geom_line()"
   ]
  },
  {
   "cell_type": "markdown",
   "metadata": {},
   "source": [
    "## Average job approval by president"
   ]
  },
  {
   "cell_type": "code",
   "execution_count": 7,
   "metadata": {},
   "outputs": [
    {
     "name": "stderr",
     "output_type": "stream",
     "text": [
      "`summarise()` ungrouping output (override with `.groups` argument)\n",
      "\n"
     ]
    },
    {
     "data": {
      "text/html": [
       "<table>\n",
       "<caption>A tibble: 14 × 2</caption>\n",
       "<thead>\n",
       "\t<tr><th scope=col>president</th><th scope=col>MeanApproval</th></tr>\n",
       "\t<tr><th scope=col>&lt;chr&gt;</th><th scope=col>&lt;dbl&gt;</th></tr>\n",
       "</thead>\n",
       "<tbody>\n",
       "\t<tr><td>Barack Obama         </td><td>47.88123</td></tr>\n",
       "\t<tr><td>Donald Trump         </td><td>39.91870</td></tr>\n",
       "\t<tr><td>Dwight D. Eisenhower </td><td>64.16522</td></tr>\n",
       "\t<tr><td>Franklin D. Roosevelt</td><td>72.30000</td></tr>\n",
       "\t<tr><td>George Bush          </td><td>60.12658</td></tr>\n",
       "\t<tr><td>George W. Bush       </td><td>51.00370</td></tr>\n",
       "\t<tr><td>Gerald R. Ford       </td><td>46.13889</td></tr>\n",
       "\t<tr><td>Harry S. Truman      </td><td>42.09231</td></tr>\n",
       "\t<tr><td>Jimmy Carter         </td><td>46.06593</td></tr>\n",
       "\t<tr><td>John F. Kennedy      </td><td>70.23077</td></tr>\n",
       "\t<tr><td>Lyndon B. Johnson    </td><td>55.36709</td></tr>\n",
       "\t<tr><td>Richard Nixon        </td><td>47.11224</td></tr>\n",
       "\t<tr><td>Ronald Reagan        </td><td>52.54730</td></tr>\n",
       "\t<tr><td>William J. Clinton   </td><td>55.57895</td></tr>\n",
       "</tbody>\n",
       "</table>\n"
      ],
      "text/latex": [
       "A tibble: 14 × 2\n",
       "\\begin{tabular}{ll}\n",
       " president & MeanApproval\\\\\n",
       " <chr> & <dbl>\\\\\n",
       "\\hline\n",
       "\t Barack Obama          & 47.88123\\\\\n",
       "\t Donald Trump          & 39.91870\\\\\n",
       "\t Dwight D. Eisenhower  & 64.16522\\\\\n",
       "\t Franklin D. Roosevelt & 72.30000\\\\\n",
       "\t George Bush           & 60.12658\\\\\n",
       "\t George W. Bush        & 51.00370\\\\\n",
       "\t Gerald R. Ford        & 46.13889\\\\\n",
       "\t Harry S. Truman       & 42.09231\\\\\n",
       "\t Jimmy Carter          & 46.06593\\\\\n",
       "\t John F. Kennedy       & 70.23077\\\\\n",
       "\t Lyndon B. Johnson     & 55.36709\\\\\n",
       "\t Richard Nixon         & 47.11224\\\\\n",
       "\t Ronald Reagan         & 52.54730\\\\\n",
       "\t William J. Clinton    & 55.57895\\\\\n",
       "\\end{tabular}\n"
      ],
      "text/markdown": [
       "\n",
       "A tibble: 14 × 2\n",
       "\n",
       "| president &lt;chr&gt; | MeanApproval &lt;dbl&gt; |\n",
       "|---|---|\n",
       "| Barack Obama          | 47.88123 |\n",
       "| Donald Trump          | 39.91870 |\n",
       "| Dwight D. Eisenhower  | 64.16522 |\n",
       "| Franklin D. Roosevelt | 72.30000 |\n",
       "| George Bush           | 60.12658 |\n",
       "| George W. Bush        | 51.00370 |\n",
       "| Gerald R. Ford        | 46.13889 |\n",
       "| Harry S. Truman       | 42.09231 |\n",
       "| Jimmy Carter          | 46.06593 |\n",
       "| John F. Kennedy       | 70.23077 |\n",
       "| Lyndon B. Johnson     | 55.36709 |\n",
       "| Richard Nixon         | 47.11224 |\n",
       "| Ronald Reagan         | 52.54730 |\n",
       "| William J. Clinton    | 55.57895 |\n",
       "\n"
      ],
      "text/plain": [
       "   president             MeanApproval\n",
       "1  Barack Obama          47.88123    \n",
       "2  Donald Trump          39.91870    \n",
       "3  Dwight D. Eisenhower  64.16522    \n",
       "4  Franklin D. Roosevelt 72.30000    \n",
       "5  George Bush           60.12658    \n",
       "6  George W. Bush        51.00370    \n",
       "7  Gerald R. Ford        46.13889    \n",
       "8  Harry S. Truman       42.09231    \n",
       "9  Jimmy Carter          46.06593    \n",
       "10 John F. Kennedy       70.23077    \n",
       "11 Lyndon B. Johnson     55.36709    \n",
       "12 Richard Nixon         47.11224    \n",
       "13 Ronald Reagan         52.54730    \n",
       "14 William J. Clinton    55.57895    "
      ]
     },
     "metadata": {},
     "output_type": "display_data"
    }
   ],
   "source": [
    "approval_mean <- data  %>% \n",
    "    group_by(president)  %>% \n",
    "    summarize(MeanApproval = mean(approving))\n",
    "approval_mean"
   ]
  },
  {
   "cell_type": "markdown",
   "metadata": {},
   "source": [
    "## Job approval by president over time\n",
    "\n",
    "Using a rolling average to smooth out day to day changes"
   ]
  },
  {
   "cell_type": "code",
   "execution_count": 14,
   "metadata": {},
   "outputs": [
    {
     "name": "stderr",
     "output_type": "stream",
     "text": [
      "`geom_smooth()` using method = 'gam' and formula 'y ~ s(x, bs = \"cs\")'\n",
      "\n",
      "Warning message:\n",
      "\"Removed 117 rows containing non-finite values (stat_smooth).\"\n"
     ]
    },
    {
     "data": {
      "image/png": "[encoded data removed]",
      "text/plain": [
       "plot without title"
      ]
     },
     "metadata": {
      "image/png": {
       "height": 420,
       "width": 420
      }
     },
     "output_type": "display_data"
    }
   ],
   "source": [
    "all_app <- data  %>% \n",
    "    group_by(president)  %>% \n",
    "    filter(president != \"Franklin D. Roosevelt\") %>% \n",
    "    mutate(AvgApp = rollmean(approving, 10, na.pad = T, align = \"right\"))\n",
    "ggplot(data = all_app, aes(x = days_in_office, y = AvgApp, col = president)) +\n",
    "    geom_smooth()"
   ]
  }
 ],
 "metadata": {
  "kernelspec": {
   "display_name": "R",
   "language": "R",
   "name": "ir"
  },
  "language_info": {
   "codemirror_mode": "r",
   "file_extension": ".r",
   "mimetype": "text/x-r-source",
   "name": "R",
   "pygments_lexer": "r",
   "version": "3.6.1"
  }
 },
 "nbformat": 4,
 "nbformat_minor": 2
}
